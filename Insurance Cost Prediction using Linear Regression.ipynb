{
 "cells": [
  {
   "cell_type": "markdown",
   "metadata": {},
   "source": [
    "# INSURANCE COST PREDICTION\n"
   ]
  },
  {
   "cell_type": "markdown",
   "metadata": {},
   "source": [
    "## using linear regression"
   ]
  },
  {
   "cell_type": "code",
   "execution_count": 1,
   "metadata": {},
   "outputs": [],
   "source": [
    "#Importing necessary libraries\n",
    "import torch\n",
    "import torchvision\n",
    "import torch.nn as nn\n",
    "import pandas as pd\n",
    "import matplotlib.pyplot as plt\n",
    "import torch.nn.functional as F\n",
    "from torchvision.datasets.utils import download_url\n",
    "from torch.utils.data import DataLoader, TensorDataset, random_split\n",
    "\n",
    "\n",
    "dataframe_raw=pd.read_csv(\"./insurance.csv\")\n",
    "dataframe_raw.head()\n",
    "\n",
    "input_cols=['age', 'sex', 'bmi', 'children', 'smoker' ]\n",
    "output_cols=['charges']\n",
    "\n",
    "categorical_cols=['sex', 'smoker']\n",
    "\n",
    "\n",
    "#from_dataframe() returns input and target arrays required\n",
    "def from_dataframe(dataframe):\n",
    "    df=dataframe.copy(deep=True)\n",
    "   \n",
    "    #The categorical columns have been converted to numeric values\n",
    "    for col in categorical_cols: \n",
    "        df[col]=df[col].astype('category').cat.codes\n",
    "     \n",
    "    #The input_cols input columns will be converted tp numpy arrays\n",
    "    input_arrays=df[input_cols].to_numpy()\n",
    "    target_arrays=df[output_cols].to_numpy()\n",
    "    \n",
    "    \n",
    "    return input_arrays, target_arrays\n",
    "    \n",
    "    "
   ]
  },
  {
   "cell_type": "code",
   "execution_count": 2,
   "metadata": {},
   "outputs": [
    {
     "name": "stdout",
     "output_type": "stream",
     "text": [
      "<torch.utils.data.dataset.TensorDataset object at 0x000001F353533130>\n"
     ]
    },
    {
     "data": {
      "text/plain": [
       "<torch.utils.data.dataset.Subset at 0x1f353533970>"
      ]
     },
     "execution_count": 2,
     "metadata": {},
     "output_type": "execute_result"
    }
   ],
   "source": [
    "input_array,target_array=from_dataframe(dataframe_raw)\n",
    "\n",
    "#Convert arrays into tensors\n",
    "inputs=torch.from_numpy(input_array).float()\n",
    "target=torch.from_numpy(target_array).float()\n",
    "\n",
    "#Merge the input and target together in a dataset using TensorDataset\n",
    "dataset=TensorDataset(inputs, target)\n",
    "\n",
    "print(dataset)\n",
    "\n",
    "\n",
    "#Split the datset into train and validation datset\n",
    "train_ds, val_ds=random_split(dataset,[900,438])\n",
    "val_ds\n"
   ]
  },
  {
   "cell_type": "markdown",
   "metadata": {},
   "source": [
    "## LOADING DATA"
   ]
  },
  {
   "cell_type": "code",
   "execution_count": 3,
   "metadata": {},
   "outputs": [],
   "source": [
    "batch_size=30\n",
    "train_loader=DataLoader(train_ds, batch_size, shuffle=True)\n",
    "val_loader=DataLoader(val_ds,batch_size)"
   ]
  },
  {
   "cell_type": "code",
   "execution_count": 4,
   "metadata": {},
   "outputs": [
    {
     "name": "stdout",
     "output_type": "stream",
     "text": [
      "inputs: tensor([[27.0000,  1.0000, 18.9050,  3.0000,  0.0000],\n",
      "        [21.0000,  1.0000, 20.2350,  3.0000,  0.0000],\n",
      "        [53.0000,  1.0000, 20.9000,  0.0000,  1.0000],\n",
      "        [56.0000,  0.0000, 28.5950,  0.0000,  0.0000],\n",
      "        [33.0000,  1.0000, 35.2450,  0.0000,  0.0000],\n",
      "        [49.0000,  1.0000, 22.5150,  0.0000,  0.0000],\n",
      "        [50.0000,  1.0000, 32.3000,  2.0000,  0.0000],\n",
      "        [60.0000,  1.0000, 24.3200,  0.0000,  0.0000],\n",
      "        [58.0000,  0.0000, 27.1700,  0.0000,  0.0000],\n",
      "        [59.0000,  1.0000, 28.7850,  0.0000,  0.0000],\n",
      "        [42.0000,  0.0000, 26.6000,  0.0000,  1.0000],\n",
      "        [33.0000,  0.0000, 39.8200,  1.0000,  0.0000],\n",
      "        [31.0000,  0.0000, 26.6200,  0.0000,  0.0000],\n",
      "        [38.0000,  0.0000, 30.2100,  3.0000,  0.0000],\n",
      "        [33.0000,  0.0000, 35.5300,  0.0000,  1.0000],\n",
      "        [48.0000,  1.0000, 40.5650,  2.0000,  1.0000],\n",
      "        [31.0000,  1.0000, 38.3900,  2.0000,  0.0000],\n",
      "        [52.0000,  1.0000, 33.2500,  0.0000,  0.0000],\n",
      "        [51.0000,  1.0000, 31.6350,  0.0000,  0.0000],\n",
      "        [51.0000,  0.0000, 34.2000,  1.0000,  0.0000],\n",
      "        [34.0000,  0.0000, 26.4100,  1.0000,  0.0000],\n",
      "        [42.0000,  1.0000, 28.3100,  3.0000,  1.0000],\n",
      "        [43.0000,  0.0000, 35.7200,  2.0000,  0.0000],\n",
      "        [54.0000,  1.0000, 40.5650,  3.0000,  1.0000],\n",
      "        [43.0000,  1.0000, 35.9700,  3.0000,  1.0000],\n",
      "        [45.0000,  1.0000, 23.5600,  2.0000,  0.0000],\n",
      "        [50.0000,  1.0000, 30.9700,  3.0000,  0.0000],\n",
      "        [19.0000,  1.0000, 31.9200,  0.0000,  1.0000],\n",
      "        [20.0000,  1.0000, 40.4700,  0.0000,  0.0000],\n",
      "        [18.0000,  1.0000, 21.4700,  0.0000,  0.0000]])\n",
      "targets: tensor([[ 4827.9048],\n",
      "        [ 3861.2097],\n",
      "        [21195.8184],\n",
      "        [11658.1152],\n",
      "        [12404.8789],\n",
      "        [ 8688.8584],\n",
      "        [ 9630.3975],\n",
      "        [12523.6045],\n",
      "        [12222.8984],\n",
      "        [12129.6143],\n",
      "        [21348.7051],\n",
      "        [ 4795.6567],\n",
      "        [ 3757.8447],\n",
      "        [ 7537.1641],\n",
      "        [55135.4023],\n",
      "        [45702.0234],\n",
      "        [ 4463.2051],\n",
      "        [ 9722.7695],\n",
      "        [ 9174.1357],\n",
      "        [ 9872.7012],\n",
      "        [ 5385.3379],\n",
      "        [32787.4570],\n",
      "        [19144.5762],\n",
      "        [48549.1797],\n",
      "        [42124.5156],\n",
      "        [ 8603.8232],\n",
      "        [10600.5479],\n",
      "        [33750.2930],\n",
      "        [ 1984.4532],\n",
      "        [ 1702.4553]])\n"
     ]
    }
   ],
   "source": [
    "#Checking the train_loader, data loaded into train_loader\n",
    "for x,y in train_loader:\n",
    "    print(\"inputs:\",x)\n",
    "    print(\"targets:\",y)\n",
    "    break\n",
    "    \n",
    "    "
   ]
  },
  {
   "cell_type": "markdown",
   "metadata": {},
   "source": [
    "# TRAINING MODEL USING LINEAR REGRESSION MODEL"
   ]
  },
  {
   "cell_type": "code",
   "execution_count": 5,
   "metadata": {},
   "outputs": [],
   "source": [
    "class InsuranceModel(nn.Module):\n",
    "    def __init__(self):\n",
    "        super().__init__()\n",
    "        self.linear=nn.Linear(len(input_cols), len(output_cols))\n",
    "        \n",
    "    def forward(self,xb):\n",
    "        out=self.linear(xb)\n",
    "        return out\n",
    "    \n",
    "    def training_step(self,batch):\n",
    "        inputs,target=batch\n",
    "        out=self(inputs)\n",
    "        loss=F.mse_loss(out,target)\n",
    "        return loss\n",
    "    \n",
    "    def validation_step(self,batch):\n",
    "        inputs, targets=batch\n",
    "        out=self(inputs)\n",
    "        loss=F.mse_loss(out,targets)\n",
    "       \n",
    "        return {'val_loss': loss.detach()}\n",
    "    \n",
    "    def validation_epoch(self,outputs):\n",
    "        batch_losses=[x['val_loss'] for x in outputs]\n",
    "        epoch_losses=torch.stack(batch_losses).mean()\n",
    "        return {'val_loss':epoch_losses.item()}\n",
    "    \n",
    "    def epoch_end(self, epoch,result,num_epochs):\n",
    "        if (epoch+1) % 20 == 0 or epoch == num_epochs-1:\n",
    "            print(\"Epoch [{}], val_loss: {:.4f}\".format(epoch+1, result['val_loss']))\n",
    "        \n",
    "        "
   ]
  },
  {
   "cell_type": "code",
   "execution_count": 6,
   "metadata": {},
   "outputs": [],
   "source": [
    "model=InsuranceModel()"
   ]
  },
  {
   "cell_type": "markdown",
   "metadata": {},
   "source": [
    "# THE LINEAR REGRESSION MODEL"
   ]
  },
  {
   "cell_type": "code",
   "execution_count": 7,
   "metadata": {},
   "outputs": [],
   "source": [
    "def evaluate_model(model,val_loader):\n",
    "    outputs=[model.validation_step(batch) for batch in val_loader]\n",
    "    return model.validation_epoch(outputs)\n",
    "\n",
    "\n",
    "\n",
    "\n",
    "\n",
    "def fit(epochs,lr,model,train_loader, val_loader,opt_func=torch.optim.SGD):\n",
    "    history=[]\n",
    "    optimizer=opt_func(model.parameters(),lr)\n",
    "    \n",
    "    for epoch in range(epochs):\n",
    "        \n",
    "        for batch in train_loader:\n",
    "            loss=model.training_step(batch)\n",
    "            loss.backward()\n",
    "            optimizer.step()\n",
    "            optimizer.zero_grad()\n",
    "            \n",
    "        result=evaluate_model(model,val_loader)\n",
    "        model.epoch_end(epoch, result, epochs)\n",
    "        history.append(result)\n",
    "    return history\n",
    "            \n",
    "            \n",
    "        \n",
    "    \n",
    "    "
   ]
  },
  {
   "cell_type": "code",
   "execution_count": 9,
   "metadata": {},
   "outputs": [
    {
     "name": "stdout",
     "output_type": "stream",
     "text": [
      "Epoch [20], val_loss: nan\n",
      "Epoch [40], val_loss: nan\n",
      "Epoch [60], val_loss: nan\n",
      "Epoch [80], val_loss: nan\n",
      "Epoch [100], val_loss: nan\n"
     ]
    }
   ],
   "source": [
    "epoch=100\n",
    "lr=0.5\n",
    "history1 = fit(epoch, lr, model, train_loader, val_loader)\n"
   ]
  }
 ],
 "metadata": {
  "kernelspec": {
   "display_name": "Python 3",
   "language": "python",
   "name": "python3"
  },
  "language_info": {
   "codemirror_mode": {
    "name": "ipython",
    "version": 3
   },
   "file_extension": ".py",
   "mimetype": "text/x-python",
   "name": "python",
   "nbconvert_exporter": "python",
   "pygments_lexer": "ipython3",
   "version": "3.8.2"
  }
 },
 "nbformat": 4,
 "nbformat_minor": 4
}
